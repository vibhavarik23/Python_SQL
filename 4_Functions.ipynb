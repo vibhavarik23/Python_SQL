{
 "cells": [
  {
   "cell_type": "markdown",
   "metadata": {},
   "source": [
    "# Python Functions"
   ]
  },
  {
   "cell_type": "markdown",
   "metadata": {},
   "source": [
    "A function is a block of code which only runs when it is called.\n",
    "You can pass data, known as parameters, into a function.\n",
    "A function can return data as a result.\n",
    "Some Benefits of Using Functions\n",
    "\n",
    "Increase Code Readability \n",
    "Increase Code Reusability"
   ]
  },
  {
   "cell_type": "markdown",
   "metadata": {},
   "source": [
    "## Creating a Function\n",
    "In Python a function is defined using the def keyword:\n",
    "\n",
    "def function_name(parameter):\n",
    "    \"\"\"\n",
    "    Docstring\n",
    "    \"\"\"\n",
    "    #statements\n",
    "    return expression\n",
    "\n",
    "function_name()"
   ]
  },
  {
   "cell_type": "code",
   "execution_count": null,
   "metadata": {},
   "outputs": [],
   "source": [
    "# A simple Python function \n",
    " \n",
    "def fun():\n",
    "  print(\"Welcome to Python\")\n",
    "\n",
    "fun()"
   ]
  },
  {
   "cell_type": "markdown",
   "metadata": {},
   "source": [
    "## Calling a  Python Function\n",
    "After creating a function in Python we can call it by using the name of the function followed by parenthesis containing parameters of that particular function."
   ]
  },
  {
   "cell_type": "code",
   "execution_count": null,
   "metadata": {},
   "outputs": [],
   "source": [
    "# A simple Python function\n",
    "def fun():\n",
    "\t\"\"\"_summary_\n",
    "\t\"\"\"\n",
    "\tprint(\"Welcome to Python\")\n",
    "\n",
    "# Driver code to call a function\n",
    "fun()"
   ]
  },
  {
   "cell_type": "markdown",
   "metadata": {},
   "source": [
    "## Docstring \n",
    "Docstring\n",
    "The first string after the function is called the Document string or Docstring in short. This is used to describe the functionality of the function. The use of docstring in functions is optional but it is considered a good practice.\n",
    "\n",
    "The below syntax can be used to print out the docstring of a function:\n",
    "\n",
    "Syntax: print(function_name.__doc__)"
   ]
  },
  {
   "cell_type": "code",
   "execution_count": null,
   "metadata": {},
   "outputs": [],
   "source": [
    "# A simple Python function to check\n",
    "# whether x is even or odd\n",
    "\n",
    "def evenOdd(x):\n",
    "\t\"\"\"Function to check if the number is even or odd\"\"\"\n",
    "\t\n",
    "\tif (x % 2 == 0):\n",
    "\t\tprint(\"even\")\n",
    "\telse:\n",
    "\t\tprint(\"odd\")\n",
    "\n",
    "# Driver code to call the function\n",
    "print(evenOdd.__doc__)\n"
   ]
  },
  {
   "cell_type": "markdown",
   "metadata": {},
   "source": [
    "## Return Statement in Python Function\n",
    "The function return statement is used to exit from a function and go back to the function caller and return the specified value or data item to the caller. The syntax for the return statement is:\n",
    "\n",
    "return [expression_list]\n",
    "\n",
    "The return statement can consist of a variable, an expression, or a constant which is returned at the end of the function execution. \n",
    "If none of the above is present with the return statement a None object is returned."
   ]
  },
  {
   "cell_type": "code",
   "execution_count": null,
   "metadata": {},
   "outputs": [],
   "source": [
    "def square_value(num):\n",
    "\t\"\"\"This function returns the square\n",
    "\tvalue of the entered number\"\"\"\n",
    "\treturn num**2\n",
    "\n",
    "print(square_value(2))\n",
    "print(square_value(-4))\n"
   ]
  },
  {
   "cell_type": "code",
   "execution_count": null,
   "metadata": {},
   "outputs": [],
   "source": [
    "# Find sum of all elements in the list\n",
    "def sum():\n",
    "    s=0\n",
    "    for i in lst:\n",
    "        s=s+i\n",
    "    return(s)\n",
    "def mlt():\n",
    "    p=1\n",
    "    for i in lst:\n",
    "        p=p*i\n",
    "    return(p)\n",
    "lst=[1,2,3,4,5,6,7,8,9]\n",
    "a=sum()\n",
    "print(a)\n",
    "p=mlt()\n",
    "print(p)"
   ]
  },
  {
   "cell_type": "markdown",
   "metadata": {},
   "source": [
    "## Scope and Life Time of Variables\n",
    "## Global and Local Variables in Python"
   ]
  },
  {
   "cell_type": "markdown",
   "metadata": {},
   "source": [
    "### Python Local Variables\n",
    "Local variables in Python are those which are initialized inside a function and belong only to that particular function. It cannot be accessed anywhere outside the function. "
   ]
  },
  {
   "cell_type": "code",
   "execution_count": null,
   "metadata": {},
   "outputs": [],
   "source": [
    "def f():\n",
    " \n",
    "    # local variable\n",
    "    s = \"Python Programming Language\"\n",
    "    print(s)\n",
    " \n",
    "# Driver code\n",
    "f()"
   ]
  },
  {
   "cell_type": "code",
   "execution_count": null,
   "metadata": {},
   "outputs": [],
   "source": [
    "def f():\n",
    "\t\n",
    "\t# local variable\n",
    "\tls = \"Python Programming Language\"\n",
    "\tprint(\"Inside Function:\", ls)\n",
    "\n",
    "# Driver code\n",
    "f()\n",
    "print(ls)"
   ]
  },
  {
   "cell_type": "markdown",
   "metadata": {},
   "source": [
    "### Python Global Variables\n",
    "These are those which are defined outside any function and which are accessible throughout the program, i.e., inside and outside of every function. "
   ]
  },
  {
   "cell_type": "code",
   "execution_count": null,
   "metadata": {},
   "outputs": [],
   "source": [
    "# This function uses global variable s\n",
    "def f():\n",
    "\tprint(\"Inside Function\", s)\n",
    "\n",
    "# Global scope\n",
    "s = \"Python Programming\"\n",
    "f()\n",
    "print(\"Outside Function\", s)"
   ]
  },
  {
   "cell_type": "code",
   "execution_count": null,
   "metadata": {},
   "outputs": [],
   "source": [
    "# This function has a variable with\n",
    "# name same as s.\n",
    "def f():\n",
    "    s10 = \"inside function local variable\"\n",
    "    print(s10)\n",
    " \n",
    "# Global scope\n",
    "#s = \"outside function llobal variable\"\n",
    "f()\n",
    "print(s10)"
   ]
  },
  {
   "cell_type": "code",
   "execution_count": null,
   "metadata": {},
   "outputs": [],
   "source": [
    "# This function uses global variable s\n",
    "def f():\n",
    "\ts11 += 'programming'\n",
    "\tprint(\"Inside Function\", s11)\n",
    "\n",
    "# Global scope\n",
    "s11 = \"I like python \"\n",
    "f()\n",
    "print(\"outside Function\", s11)"
   ]
  },
  {
   "cell_type": "markdown",
   "metadata": {},
   "source": [
    "### The global Keyword\n",
    "We only need to use the global keyword in a function if we want to do assignments or change the global variable. global is not needed for printing and accessing."
   ]
  },
  {
   "cell_type": "code",
   "execution_count": null,
   "metadata": {},
   "outputs": [],
   "source": [
    "# This function modifies the global variable 's'\n",
    "def f():\n",
    "\tglobal s\n",
    "\ts += 'programming'\n",
    "\tprint(\"Inside Function\", s)\n",
    "\n",
    "# Global scope\n",
    "s = \"I like python \"\n",
    "f()\n",
    "print(\"outside Function\", s)"
   ]
  },
  {
   "cell_type": "code",
   "execution_count": null,
   "metadata": {},
   "outputs": [],
   "source": [
    "a = 1\n",
    "\n",
    "# Uses global because there is no local 'a'\n",
    "def f():\n",
    "\tprint('Inside f() : ', a)\n",
    "\n",
    "# Variable 'a' is redefined as a local\n",
    "def g():\n",
    "\ta = 2\n",
    "\tprint('Inside g() : ', a)\n",
    "\n",
    "# Uses global keyword to modify global 'a'\n",
    "def h():\n",
    "\tglobal a\n",
    "\ta = 3\n",
    "\tprint('Inside h() : ', a)\n",
    "\n",
    "# Global scope\n",
    "print('global : ', a)\n",
    "f()\n",
    "print('global : ', a)\n",
    "g()\n",
    "print('global : ', a)\n",
    "h()\n",
    "print('global : ', a)"
   ]
  },
  {
   "cell_type": "code",
   "execution_count": 2,
   "metadata": {},
   "outputs": [
    {
     "name": "stdout",
     "output_type": "stream",
     "text": [
      "5\n"
     ]
    }
   ],
   "source": [
    "# Assignment\n",
    "# Python program to print Highest Common Factor (HCF)\n",
    "# of two numbers.\n",
    "\n",
    "def hcf(x, y):\n",
    "    s=x if x<y else y\n",
    "    for i in range(1,s+1):\n",
    "        if x%i==0 and y%i==0:\n",
    "            h=i\n",
    "    return(h)\n",
    "\n",
    "a=15\n",
    "b=50\n",
    "print(hcf(a,b))"
   ]
  },
  {
   "cell_type": "markdown",
   "metadata": {},
   "source": [
    "### Types of Functions in Python\n",
    "There are mainly two types of functions in Python.\n",
    "Built-in library function: These are Standard functions in Python that are available to use.\n",
    "User-defined function: We can create our own functions based on our requirements."
   ]
  },
  {
   "cell_type": "code",
   "execution_count": null,
   "metadata": {},
   "outputs": [],
   "source": [
    "### Built-in library function:"
   ]
  },
  {
   "cell_type": "code",
   "execution_count": 3,
   "metadata": {},
   "outputs": [
    {
     "name": "stdout",
     "output_type": "stream",
     "text": [
      "7.25\n",
      "5.830951894845301\n"
     ]
    }
   ],
   "source": [
    "# abs() Function\n",
    "#Return the absolute value of a number\n",
    "\n",
    "x = abs(-7.25)\n",
    "print(x)\n",
    "y = abs(3+5j)\n",
    "print(y)"
   ]
  },
  {
   "cell_type": "code",
   "execution_count": 4,
   "metadata": {},
   "outputs": [
    {
     "name": "stdout",
     "output_type": "stream",
     "text": [
      "True\n"
     ]
    }
   ],
   "source": [
    "# all()\tReturns True if all items in an iterable object are true\n",
    "# An iterable object (list, tuple, dictionary)\n",
    "mylist = [True, True, True]\n",
    "x = all(mylist)\n",
    "print(x)"
   ]
  },
  {
   "cell_type": "code",
   "execution_count": 6,
   "metadata": {},
   "outputs": [
    {
     "name": "stdout",
     "output_type": "stream",
     "text": [
      "True\n"
     ]
    }
   ],
   "source": [
    "mylist = [5, 1, 1,-6]\n",
    "x = all(mylist)\n",
    "print(x)"
   ]
  },
  {
   "cell_type": "code",
   "execution_count": 8,
   "metadata": {},
   "outputs": [
    {
     "name": "stdout",
     "output_type": "stream",
     "text": [
      "False\n"
     ]
    }
   ],
   "source": [
    "# Check if all items in a tuple are True:\n",
    "\n",
    "mytuple = (0, True, False)\n",
    "x = all(mytuple)\n",
    "print(x)"
   ]
  },
  {
   "cell_type": "code",
   "execution_count": 9,
   "metadata": {},
   "outputs": [
    {
     "name": "stdout",
     "output_type": "stream",
     "text": [
      "False\n"
     ]
    }
   ],
   "source": [
    "# Check if all items in a set are True:\n",
    "\n",
    "myset = {0, 1, 0}\n",
    "x = all(myset)\n",
    "print(x)"
   ]
  },
  {
   "cell_type": "code",
   "execution_count": 10,
   "metadata": {},
   "outputs": [
    {
     "name": "stdout",
     "output_type": "stream",
     "text": [
      "False\n"
     ]
    }
   ],
   "source": [
    "# Check if all items in a dictionary are True:\n",
    "\n",
    "mydict = {0 : \"Apple\", 1 : \"Orange\"}\n",
    "x = all(mydict)\n",
    "print(x)"
   ]
  },
  {
   "cell_type": "code",
   "execution_count": 12,
   "metadata": {},
   "outputs": [
    {
     "name": "stdout",
     "output_type": "stream",
     "text": [
      "['__add__', '__class__', '__class_getitem__', '__contains__', '__delattr__', '__dir__', '__doc__', '__eq__', '__format__', '__ge__', '__getattribute__', '__getitem__', '__getnewargs__', '__getstate__', '__gt__', '__hash__', '__init__', '__init_subclass__', '__iter__', '__le__', '__len__', '__lt__', '__mul__', '__ne__', '__new__', '__reduce__', '__reduce_ex__', '__repr__', '__rmul__', '__setattr__', '__sizeof__', '__str__', '__subclasshook__', 'count', 'index']\n"
     ]
    }
   ],
   "source": [
    "# dir()\tReturns a list of the specified object's properties and methods\n",
    "n=(1,2,3,4)\n",
    "print(dir(n))"
   ]
  },
  {
   "cell_type": "code",
   "execution_count": 14,
   "metadata": {},
   "outputs": [
    {
     "name": "stdout",
     "output_type": "stream",
     "text": [
      "(2, 1)\n"
     ]
    }
   ],
   "source": [
    "# divmod()\tReturns the quotient and the remainder when argument1 is divided by argument2\n",
    "x = divmod(5, 2)\n",
    "print(x)"
   ]
  },
  {
   "cell_type": "code",
   "execution_count": 16,
   "metadata": {},
   "outputs": [
    {
     "name": "stdout",
     "output_type": "stream",
     "text": [
      "[18, 24, 32]\n",
      "18\n",
      "24\n",
      "32\n"
     ]
    }
   ],
   "source": [
    "# filter()\tUse a filter function to exclude items in an iterable object\n",
    "#Filter the array, and return a new array with only the values equal to or above 18.\n",
    "ages = [5, 12, 17, 18, 24, 32]\n",
    "\n",
    "def myFunc(x):\n",
    "  if x < 18:\n",
    "    return False\n",
    "  else:\n",
    "    return True\n",
    "  \n",
    "voter = list(filter(myFunc, ages))\n",
    "print(voter)\n",
    "for x in voter:\n",
    "  print(x)"
   ]
  },
  {
   "cell_type": "code",
   "execution_count": 17,
   "metadata": {},
   "outputs": [
    {
     "name": "stdout",
     "output_type": "stream",
     "text": [
      "[1, 2, 3, 4, 5, 6, 7, 8, 9, 10]\n"
     ]
    }
   ],
   "source": [
    "# assignment : \n",
    "# create a list with numbers from -10 to 10 and \n",
    "# filter the positive numbers by using filter()\n",
    "def myFunc(x):\n",
    "  if x <= 0:\n",
    "    return False\n",
    "  else:\n",
    "    return True\n",
    "\n",
    "l=[-10,-9,-8,-7,-6,-5,-4,-3,-2,-1,0,1,2,3,4,5,6,7,8,9,10]  \n",
    "p = list(filter(myFunc, l))\n",
    "print(p)"
   ]
  },
  {
   "cell_type": "code",
   "execution_count": 20,
   "metadata": {},
   "outputs": [
    {
     "name": "stdout",
     "output_type": "stream",
     "text": [
      "False\n"
     ]
    }
   ],
   "source": [
    "# isinstance()\tReturns True if a specified object \n",
    "# is an instance of a specified object.\n",
    "x = isinstance(5.5, int)\n",
    "print(x)"
   ]
  },
  {
   "cell_type": "code",
   "execution_count": 21,
   "metadata": {},
   "outputs": [
    {
     "name": "stdout",
     "output_type": "stream",
     "text": [
      "True\n",
      "False\n"
     ]
    }
   ],
   "source": [
    "lst=[1,2,3,4,5,6,7,8,9,10]\n",
    "print(isinstance(lst, list))\n",
    "print(isinstance(lst,tuple))"
   ]
  },
  {
   "cell_type": "code",
   "execution_count": 22,
   "metadata": {},
   "outputs": [
    {
     "name": "stdout",
     "output_type": "stream",
     "text": [
      "True\n"
     ]
    }
   ],
   "source": [
    "x = isinstance(\"Hello\", (float, int, str, list, dict, tuple))\n",
    "print(x)"
   ]
  },
  {
   "cell_type": "code",
   "execution_count": 23,
   "metadata": {},
   "outputs": [
    {
     "name": "stdout",
     "output_type": "stream",
     "text": [
      "<map object at 0x0000022548D5B700>\n",
      "[5, 6, 6]\n"
     ]
    }
   ],
   "source": [
    "# map()\tReturns the specified iterator with \n",
    "# the specified function applied to each item\n",
    "# syntax map(function_to_map, list)\n",
    "def myfunc(a):\n",
    "  return len(a)\n",
    "\n",
    "x = map(myfunc, ('apple', 'banana', 'cherry'))\n",
    "print(x)\n",
    "\n",
    "#convert the map into a list, for readability:\n",
    "print(list(x))"
   ]
  },
  {
   "cell_type": "code",
   "execution_count": 24,
   "metadata": {},
   "outputs": [
    {
     "name": "stdout",
     "output_type": "stream",
     "text": [
      "[1, 4, 9, 16, 25, 36, 49, 64, 81, 100]\n"
     ]
    }
   ],
   "source": [
    "# Python program to compute num^2 for \n",
    "# each element in the list by using map().\n",
    "def sqr(x):\n",
    "    return x**2\n",
    "    \n",
    "l=[1,2,3,4,5,6,7,8,9,10]\n",
    "sq=list(map(sqr,l))\n",
    "print(sq)"
   ]
  },
  {
   "cell_type": "code",
   "execution_count": 26,
   "metadata": {},
   "outputs": [
    {
     "name": "stdout",
     "output_type": "stream",
     "text": [
      "(('John', 'Jenny', 'Mary'), ('Charles', 'Christy', 'Cian'), ('Mike', 'Monica', 'abc'))\n"
     ]
    }
   ],
   "source": [
    "# zip()\tReturns an iterator, from two or more iterators\n",
    "a = (\"John\", \"Charles\", \"Mike\")\n",
    "b = (\"Jenny\", \"Christy\", \"Monica\", \"Vicky\")\n",
    "c = (\"Mary\", \"Cian\",\"abc\")\n",
    "x = zip(a, b, c)\n",
    "\n",
    "#use the tuple() function to display a readable version of the result:\n",
    "\n",
    "print(tuple(x))"
   ]
  },
  {
   "cell_type": "markdown",
   "metadata": {},
   "source": [
    "### reduce()\n",
    "The reduce(fun,seq) function is used to apply a particular function passed in its argument to all of the list elements mentioned in the sequence passed along.This function is defined in “functools” module.\n",
    "\n",
    "Working :  \n",
    "\n",
    "-At first step, first two elements of sequence are picked and the result is obtained.\n",
    "-Next step is to apply the same function to the previously attained result and the number just succeeding the second element and the result is again stored.\n",
    "-This process continues till no more elements are left in the container.\n",
    "-The final returned result is returned and printed on console."
   ]
  },
  {
   "cell_type": "code",
   "execution_count": 30,
   "metadata": {},
   "outputs": [
    {
     "name": "stdout",
     "output_type": "stream",
     "text": [
      "55\n"
     ]
    }
   ],
   "source": [
    "from functools import reduce\n",
    "\n",
    "def multiply(x,y):\n",
    "    #print(x+y)\n",
    "    return x + y\n",
    "\n",
    "lst=[1,2,3,4,5,6,7,8,9,10]\n",
    "product=reduce(multiply,lst)\n",
    "print(product)"
   ]
  },
  {
   "cell_type": "code",
   "execution_count": null,
   "metadata": {},
   "outputs": [],
   "source": [
    "# python code to demonstrate working of reduce() \n",
    "  \n",
    "# importing functools for reduce() \n",
    "import functools \n",
    "  \n",
    "# initializing list \n",
    "lis = [1, 3, 5, 6, 2] \n",
    "  \n",
    "# using reduce to compute sum of list \n",
    "print(\"The sum of the list elements is : \", end=\"\") \n",
    "print(functools.reduce(lambda a, b: a+b, lis)) \n",
    "  \n",
    "# using reduce to compute maximum element from list \n",
    "print(\"The maximum element of the list is : \", end=\"\") \n",
    "print(functools.reduce(lambda a, b: a if a > b else b, lis)) \n"
   ]
  },
  {
   "cell_type": "markdown",
   "metadata": {},
   "source": [
    "## User defined functions"
   ]
  },
  {
   "cell_type": "code",
   "execution_count": 31,
   "metadata": {},
   "outputs": [
    {
     "name": "stdout",
     "output_type": "stream",
     "text": [
      "even\n",
      "None\n",
      "odd\n",
      "None\n"
     ]
    }
   ],
   "source": [
    "def evenOdd( x ): \n",
    "    if (x % 2 == 0): \n",
    "        print(\"even\")\n",
    "    else: \n",
    "        print(\"odd\")\n",
    "   \n",
    "# Driver code \n",
    "print(evenOdd(2))\n",
    "print(evenOdd(3))"
   ]
  },
  {
   "cell_type": "code",
   "execution_count": null,
   "metadata": {},
   "outputs": [],
   "source": [
    "# Assignment\n",
    "# Python program to make a simple calculator that \n",
    "# can add, subtract, multiply and divide two numbers."
   ]
  },
  {
   "cell_type": "markdown",
   "metadata": {},
   "source": [
    "## Python Function Arguments\n",
    "Arguments are the values passed inside the parenthesis of the function. A function can have any number of arguments separated by a comma.\n",
    "\n",
    "In this example, we will create a simple function in Python to check whether the number passed as an argument to the function is even or odd."
   ]
  },
  {
   "cell_type": "code",
   "execution_count": null,
   "metadata": {},
   "outputs": [],
   "source": [
    "# A simple Python function to check\n",
    "# whether x is even or odd\n",
    "def evenOdd(x):\n",
    "\tif (x % 2 == 0):\n",
    "\t\tprint(\"even\")\n",
    "\telse:\n",
    "\t\tprint(\"odd\")\n",
    "\n",
    "\n",
    "# Driver code to call the function\n",
    "evenOdd(2)\n",
    "evenOdd(3)\n"
   ]
  },
  {
   "cell_type": "markdown",
   "metadata": {},
   "source": [
    "## Types of Python Function Arguments\n",
    "Python supports various types of arguments that can be passed at the time of the function call. In Python, we have the following 4 types of function arguments.\n",
    "\n",
    "Default argument\n",
    "Keyword arguments (named arguments)\n",
    "Positional arguments\n",
    "Arbitrary arguments (variable-length arguments *args and **kwargs)\n",
    "Let’s discuss each type in detail. "
   ]
  },
  {
   "cell_type": "markdown",
   "metadata": {},
   "source": [
    "### Default Arguments\n",
    "A default argument is a parameter that assumes a default value if a value is not provided in the function call for that argument. The following example illustrates Default arguments. "
   ]
  },
  {
   "cell_type": "code",
   "execution_count": 33,
   "metadata": {},
   "outputs": [
    {
     "name": "stdout",
     "output_type": "stream",
     "text": [
      "x:  10\n",
      "y:  50\n"
     ]
    }
   ],
   "source": [
    "# Python program to demonstrate\n",
    "# default arguments\n",
    "def myFun(x, y=50):\n",
    "\tprint(\"x: \", x)\n",
    "\tprint(\"y: \", y)\n",
    "\n",
    "\n",
    "# Driver code (We call myFun() with only\n",
    "# argument)\n",
    "myFun(10)\n"
   ]
  },
  {
   "cell_type": "markdown",
   "metadata": {},
   "source": [
    "### Keyword Arguments\n",
    "The idea is to allow the caller to specify the argument name with values so that the caller does not need to remember the order of parameters."
   ]
  },
  {
   "cell_type": "code",
   "execution_count": 34,
   "metadata": {},
   "outputs": [
    {
     "name": "stdout",
     "output_type": "stream",
     "text": [
      "abc pqr\n",
      "ghi def\n"
     ]
    }
   ],
   "source": [
    "# Python program to demonstrate Keyword Arguments\n",
    "def student(firstname, lastname):\n",
    "\tprint(firstname, lastname)\n",
    "\n",
    "# Keyword arguments\n",
    "student(firstname='abc', lastname='pqr')\n",
    "student(lastname='def', firstname='ghi')\n"
   ]
  },
  {
   "cell_type": "markdown",
   "metadata": {},
   "source": [
    "### Positional Arguments\n",
    "We used the Position argument during the function call so that the first argument (or value) is assigned to name and the second argument (or value) is assigned to age. By changing the position, or if you forget the order of the positions, the values can be used in the wrong places, as shown in the Case-2 example below, where 27 is assigned to the name and Suraj is assigned to the age."
   ]
  },
  {
   "cell_type": "code",
   "execution_count": null,
   "metadata": {},
   "outputs": [],
   "source": [
    "def nameAge(name, age):\n",
    "\tprint(\"Hi, I am\", name)\n",
    "\tprint(\"My age is \", age)\n",
    "\n",
    "\n",
    "# You will get correct output because \n",
    "# argument is given in order\n",
    "print(\"Case-1:\")\n",
    "nameAge(\"Suraj\", 27)\n",
    "# You will get incorrect output because\n",
    "# argument is not in order\n",
    "print(\"\\nCase-2:\")\n",
    "nameAge(27, \"Suraj\")\n"
   ]
  },
  {
   "cell_type": "markdown",
   "metadata": {},
   "source": [
    "### Arbitrary Keyword  Arguments\n",
    "In Python Arbitrary Keyword Arguments, *args, and **kwargs can pass a variable number of arguments to a function using special symbols. There are two special symbols:\n",
    "\n",
    "*args in Python (Non-Keyword Arguments)\n",
    "**kwargs in Python (Keyword Arguments)"
   ]
  },
  {
   "cell_type": "code",
   "execution_count": 36,
   "metadata": {},
   "outputs": [
    {
     "name": "stdout",
     "output_type": "stream",
     "text": [
      "Hello\n",
      "Welcome\n",
      "Python programming\n"
     ]
    }
   ],
   "source": [
    "# Python program to illustrate\n",
    "# *args for variable number of arguments\n",
    "def myFun(*argv):\n",
    "\tfor arg in argv:\n",
    "\t\tprint(arg)\n",
    "\n",
    "myFun('Hello', 'Welcome', 'Python programming')\n"
   ]
  },
  {
   "cell_type": "code",
   "execution_count": 37,
   "metadata": {},
   "outputs": [
    {
     "name": "stdout",
     "output_type": "stream",
     "text": [
      "first == abc\n",
      "mid == def\n",
      "last == pqr\n"
     ]
    }
   ],
   "source": [
    "# Python program to illustrate\n",
    "# *kwargs for variable number of keyword arguments\n",
    "\n",
    "\n",
    "def myFun(**kwargs):\n",
    "\tfor key, value in kwargs.items():\n",
    "\t\tprint(\"%s == %s\" % (key, value))\n",
    "\n",
    "\n",
    "# Driver code\n",
    "myFun(first='abc', mid='def', last='pqr')\n"
   ]
  },
  {
   "cell_type": "markdown",
   "metadata": {},
   "source": [
    "### Anonymous Functions in Python\n",
    "In Python, an anonymous function means that a function is without a name. As we already know the def keyword is used to define the normal functions and the lambda keyword is used to create anonymous functions.\n",
    "\n",
    "function_name=lambda arguments:expression\n"
   ]
  },
  {
   "cell_type": "code",
   "execution_count": 38,
   "metadata": {},
   "outputs": [
    {
     "name": "stdout",
     "output_type": "stream",
     "text": [
      "343\n",
      "343\n"
     ]
    }
   ],
   "source": [
    "# Python code to illustrate the cube of a number\n",
    "# using lambda function\n",
    "def cube(x): \n",
    "    return x*x*x\n",
    "\n",
    "cube_v2 = lambda x : x*x*x\n",
    "\n",
    "print(cube(7))\n",
    "print(cube_v2(7))\n"
   ]
  },
  {
   "cell_type": "code",
   "execution_count": 39,
   "metadata": {},
   "outputs": [
    {
     "name": "stdout",
     "output_type": "stream",
     "text": [
      "[2, 4, 6, 8, 10]\n"
     ]
    }
   ],
   "source": [
    "lst=[1,2,3,4,5,6,7,8,9,10]\n",
    "even_lst=list(filter(lambda x:(x%2==0),lst))\n",
    "print(even_lst)"
   ]
  },
  {
   "cell_type": "code",
   "execution_count": 40,
   "metadata": {},
   "outputs": [
    {
     "name": "stdout",
     "output_type": "stream",
     "text": [
      "[1, 4, 9, 16, 25, 36, 49, 64, 81, 100]\n"
     ]
    }
   ],
   "source": [
    "lst=[1,2,3,4,5,6,7,8,9,10]\n",
    "new_lst=list(map(lambda x:(x**2),lst))\n",
    "print(new_lst)"
   ]
  },
  {
   "cell_type": "code",
   "execution_count": 41,
   "metadata": {},
   "outputs": [
    {
     "name": "stdout",
     "output_type": "stream",
     "text": [
      "2\n",
      "3\n"
     ]
    }
   ],
   "source": [
    "# Find Output\n",
    "def swap(x, y):\n",
    "\ttemp = x\n",
    "\tx = y\n",
    "\ty = temp\n",
    "# Driver code\n",
    "x = 2\n",
    "y = 3\n",
    "swap(x, y)\n",
    "print(x)\n",
    "print(y)"
   ]
  },
  {
   "cell_type": "markdown",
   "metadata": {},
   "source": [
    "### Recursion\n",
    "Function calling itself."
   ]
  },
  {
   "cell_type": "code",
   "execution_count": 42,
   "metadata": {},
   "outputs": [
    {
     "name": "stdout",
     "output_type": "stream",
     "text": [
      "120\n"
     ]
    }
   ],
   "source": [
    "def fact(num):\n",
    "    return 1 if num == 1 else (num*fact(num-1))\n",
    "\n",
    "num=5\n",
    "print(fact(num))"
   ]
  },
  {
   "cell_type": "code",
   "execution_count": null,
   "metadata": {},
   "outputs": [],
   "source": [
    "# Assignment : Find fibonacci series using recursion"
   ]
  }
 ],
 "metadata": {
  "kernelspec": {
   "display_name": "base",
   "language": "python",
   "name": "python3"
  },
  "language_info": {
   "codemirror_mode": {
    "name": "ipython",
    "version": 3
   },
   "file_extension": ".py",
   "mimetype": "text/x-python",
   "name": "python",
   "nbconvert_exporter": "python",
   "pygments_lexer": "ipython3",
   "version": "3.11.4"
  }
 },
 "nbformat": 4,
 "nbformat_minor": 2
}
