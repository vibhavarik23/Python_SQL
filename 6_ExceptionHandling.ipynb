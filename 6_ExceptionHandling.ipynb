{
 "cells": [
  {
   "cell_type": "markdown",
   "metadata": {},
   "source": [
    "## Python Errors and Built-in-Exceptions\n",
    "Error in Python can be of two types i.e. Syntax errors (parsing error) and Exceptions. Errors are problems in a program due to which the program will stop the execution. "
   ]
  },
  {
   "cell_type": "code",
   "execution_count": 1,
   "metadata": {},
   "outputs": [
    {
     "ename": "SyntaxError",
     "evalue": "expected ':' (2722914379.py, line 2)",
     "output_type": "error",
     "traceback": [
      "\u001b[1;36m  Cell \u001b[1;32mIn[1], line 2\u001b[1;36m\u001b[0m\n\u001b[1;33m    if(i<5)\u001b[0m\n\u001b[1;37m           ^\u001b[0m\n\u001b[1;31mSyntaxError\u001b[0m\u001b[1;31m:\u001b[0m expected ':'\n"
     ]
    }
   ],
   "source": [
    "i=2\n",
    "if(i<5)\n",
    "    print(\"less than 5\")"
   ]
  },
  {
   "cell_type": "markdown",
   "metadata": {},
   "source": [
    "On the other hand, errors can also occur at runtime and these are called exceptions, exceptions are raised when some internal events occur which change the normal flow of the program. \n",
    "\n",
    "Exceptions: Exceptions are raised when the program is syntactically correct, but the code results in an error. This error does not stop the execution of the program, however, it changes the normal flow of the program."
   ]
  },
  {
   "cell_type": "code",
   "execution_count": 2,
   "metadata": {},
   "outputs": [
    {
     "ename": "ZeroDivisionError",
     "evalue": "division by zero",
     "output_type": "error",
     "traceback": [
      "\u001b[1;31m---------------------------------------------------------------------------\u001b[0m",
      "\u001b[1;31mZeroDivisionError\u001b[0m                         Traceback (most recent call last)",
      "Cell \u001b[1;32mIn[2], line 5\u001b[0m\n\u001b[0;32m      2\u001b[0m marks \u001b[38;5;241m=\u001b[39m \u001b[38;5;241m10000\u001b[39m\n\u001b[0;32m      4\u001b[0m \u001b[38;5;66;03m# perform division with 0 \u001b[39;00m\n\u001b[1;32m----> 5\u001b[0m a \u001b[38;5;241m=\u001b[39m marks \u001b[38;5;241m/\u001b[39m \u001b[38;5;241m0\u001b[39m\n\u001b[0;32m      6\u001b[0m \u001b[38;5;28mprint\u001b[39m(a)\n",
      "\u001b[1;31mZeroDivisionError\u001b[0m: division by zero"
     ]
    }
   ],
   "source": [
    "# initialize the amount variable \n",
    "marks = 10000\n",
    "  \n",
    "# perform division with 0 \n",
    "a = marks / 0\n",
    "print(a) "
   ]
  },
  {
   "cell_type": "code",
   "execution_count": 3,
   "metadata": {},
   "outputs": [
    {
     "ename": "TypeError",
     "evalue": "unsupported operand type(s) for +: 'int' and 'str'",
     "output_type": "error",
     "traceback": [
      "\u001b[1;31m---------------------------------------------------------------------------\u001b[0m",
      "\u001b[1;31mTypeError\u001b[0m                                 Traceback (most recent call last)",
      "Cell \u001b[1;32mIn[3], line 3\u001b[0m\n\u001b[0;32m      1\u001b[0m x \u001b[38;5;241m=\u001b[39m \u001b[38;5;241m5\u001b[39m\n\u001b[0;32m      2\u001b[0m y \u001b[38;5;241m=\u001b[39m \u001b[38;5;124m\"\u001b[39m\u001b[38;5;124mhello\u001b[39m\u001b[38;5;124m\"\u001b[39m\n\u001b[1;32m----> 3\u001b[0m z \u001b[38;5;241m=\u001b[39m x \u001b[38;5;241m+\u001b[39m y\n",
      "\u001b[1;31mTypeError\u001b[0m: unsupported operand type(s) for +: 'int' and 'str'"
     ]
    }
   ],
   "source": [
    "x = 5\n",
    "y = \"hello\"\n",
    "z = x + y  # Raises a TypeError: unsupported operand type(s) for +: 'int' and 'str' \n"
   ]
  },
  {
   "cell_type": "markdown",
   "metadata": {},
   "source": [
    " It’s important to handle exceptions properly in your code using try-except blocks."
   ]
  },
  {
   "cell_type": "code",
   "execution_count": 5,
   "metadata": {},
   "outputs": [
    {
     "name": "stdout",
     "output_type": "stream",
     "text": [
      "cannot add an int and a str\n"
     ]
    }
   ],
   "source": [
    "x = 5\n",
    "y = \"hello\"\n",
    "try: \n",
    "    z = x + y \n",
    "except TypeError: \n",
    "    print(\"cannot add an int and a str\") "
   ]
  },
  {
   "cell_type": "markdown",
   "metadata": {},
   "source": [
    "## Try and Except Statement – Catching Exceptions\n",
    "Try and except statements are used to catch and handle exceptions in Python. Statements that can raise exceptions are kept inside the try clause and the statements that handle the exception are written inside except clause."
   ]
  },
  {
   "cell_type": "markdown",
   "metadata": {},
   "source": [
    "Example: Let us try to access the array element whose index is out of bound and handle the corresponding exception."
   ]
  },
  {
   "cell_type": "code",
   "execution_count": 6,
   "metadata": {},
   "outputs": [
    {
     "name": "stdout",
     "output_type": "stream",
     "text": [
      "Second element = 2\n",
      "An error occurred\n"
     ]
    }
   ],
   "source": [
    "# Python program to handle simple runtime error \n",
    "  \n",
    "a = [1, 2, 3] \n",
    "try:  \n",
    "    print (\"Second element = %d\" %(a[1])) \n",
    "  \n",
    "    # Throws error since there are only 3 elements in array \n",
    "    print (\"Fourth element = %d\" %(a[3])) \n",
    "  \n",
    "except: \n",
    "    print (\"An error occurred\") "
   ]
  },
  {
   "cell_type": "code",
   "execution_count": 8,
   "metadata": {},
   "outputs": [
    {
     "name": "stdout",
     "output_type": "stream",
     "text": [
      "NameError Occurred and Handled\n"
     ]
    }
   ],
   "source": [
    "# Program to handle multiple errors with one \n",
    "# except statement \n",
    "  \n",
    "def fun(a): \n",
    "    if a < 4: \n",
    "  \n",
    "        # throws ZeroDivisionError for a = 3 \n",
    "        b = a/(a-3) \n",
    "  \n",
    "    # throws NameError if a >= 4 \n",
    "    print(\"Value of b = \", b) \n",
    "      \n",
    "try: \n",
    "    #fun(3) \n",
    "    fun(5) \n",
    "  \n",
    "# note that braces () are necessary here for  \n",
    "# multiple exceptions \n",
    "except ZeroDivisionError: \n",
    "    print(\"ZeroDivisionError Occurred and Handled\") \n",
    "except NameError: \n",
    "    print(\"NameError Occurred and Handled\")"
   ]
  },
  {
   "cell_type": "markdown",
   "metadata": {},
   "source": [
    "## Try with Else Clause\n",
    "In Python, you can also use the else clause on the try-except block which must be present after all the except clauses. The code enters the else block only if the try clause does not raise an exception."
   ]
  },
  {
   "cell_type": "code",
   "execution_count": 10,
   "metadata": {},
   "outputs": [
    {
     "name": "stdout",
     "output_type": "stream",
     "text": [
      "a/b result in 0\n"
     ]
    }
   ],
   "source": [
    "# Program to depict else clause with try-except \n",
    "# Function which returns a/b \n",
    "def AbyB(a , b): \n",
    "    try: \n",
    "        c = ((a+b) / (a-b)) \n",
    "    except ZeroDivisionError: \n",
    "        print (\"a/b result in 0\") \n",
    "    else: \n",
    "        print (c) \n",
    "  \n",
    "# Driver program to test above function \n",
    "#AbyB(2.0, 3.0) \n",
    "AbyB(3.0, 3.0) "
   ]
  },
  {
   "cell_type": "markdown",
   "metadata": {},
   "source": [
    "## Finally Keyword in Python\n",
    "Python provides a keyword finally, which is always executed after the try and except blocks. The final block always executes after the normal termination of the try block or after the try block terminates due to some exception."
   ]
  },
  {
   "cell_type": "markdown",
   "metadata": {},
   "source": [
    "Syntax:\n",
    "\n",
    "try:\n",
    "    # Some Code.... \n",
    "\n",
    "except:\n",
    "    # optional block\n",
    "    # Handling of exception (if required)\n",
    "\n",
    "else:\n",
    "    # execute if no exception\n",
    "\n",
    "finally:\n",
    "    # Some code .....(always executed)"
   ]
  },
  {
   "cell_type": "code",
   "execution_count": 11,
   "metadata": {},
   "outputs": [
    {
     "name": "stdout",
     "output_type": "stream",
     "text": [
      "Can't divide by zero\n",
      "This is always executed\n"
     ]
    }
   ],
   "source": [
    "# Python program to demonstrate finally \n",
    "# No exception Exception raised in try block \n",
    "try: \n",
    "    k = 5//0  # raises divide by zero exception. \n",
    "    print(k) \n",
    "  \n",
    "# handles zerodivision exception \n",
    "except ZeroDivisionError: \n",
    "    print(\"Can't divide by zero\") \n",
    "  \n",
    "finally: \n",
    "    # this block is always executed \n",
    "    # regardless of exception generation. \n",
    "    print('This is always executed') "
   ]
  },
  {
   "cell_type": "code",
   "execution_count": 12,
   "metadata": {},
   "outputs": [
    {
     "name": "stdout",
     "output_type": "stream",
     "text": [
      "element in list:a\n",
      "Exception Occured: <class 'ValueError'>\n",
      "\n",
      "\n",
      "element in list:0\n",
      "Exception Occured: <class 'ZeroDivisionError'>\n",
      "\n",
      "\n",
      "element in list:2\n",
      "The recipocal:0.5\n"
     ]
    }
   ],
   "source": [
    "import sys\n",
    "lst=['a',0,2]\n",
    "\n",
    "for i in lst:\n",
    "    try:\n",
    "        print(f\"element in list:{i}\")\n",
    "        r=1/int(i)\n",
    "    except:\n",
    "        print(f\"Exception Occured: {sys.exc_info()[0]}\")\n",
    "        print(\"\\n\")\n",
    "print(f\"The recipocal:{r}\")"
   ]
  },
  {
   "cell_type": "code",
   "execution_count": 13,
   "metadata": {},
   "outputs": [
    {
     "name": "stdout",
     "output_type": "stream",
     "text": [
      "element in list:a\n",
      "Exception Occured: ValueError\n",
      "\n",
      "\n",
      "element in list:0\n",
      "Exception Occured: ZeroDivisionError\n",
      "\n",
      "\n",
      "element in list:2\n",
      "The recipocal:0.5\n"
     ]
    }
   ],
   "source": [
    "import sys\n",
    "lst=['a',0,2]\n",
    "\n",
    "for i in lst:\n",
    "    try:\n",
    "        print(f\"element in list:{i}\")\n",
    "        r=1/int(i)\n",
    "    except ValueError:\n",
    "        print(\"Exception Occured: ValueError\")\n",
    "        print(\"\\n\")\n",
    "    except ZeroDivisionError:\n",
    "        print(\"Exception Occured: ZeroDivisionError\")\n",
    "        print(\"\\n\")    \n",
    "    except:\n",
    "        print(f\"Exception Occured: {sys.exc_info()[0]}\")\n",
    "        print(\"\\n\")\n",
    "print(f\"The recipocal:{r}\")"
   ]
  },
  {
   "cell_type": "markdown",
   "metadata": {},
   "source": [
    "## Raise Exeptions\n",
    "\n",
    "In python programming, exceptions are raised when corresponding errors occur at run time, but we can forcefully raise it using the keyword raise.\n",
    "\n",
    "We can also optionally pass in value to the exception to clarify why that exception is raised"
   ]
  },
  {
   "cell_type": "code",
   "execution_count": 14,
   "metadata": {},
   "outputs": [
    {
     "ename": "KeyboardInterrupt",
     "evalue": "",
     "output_type": "error",
     "traceback": [
      "\u001b[1;31m---------------------------------------------------------------------------\u001b[0m",
      "\u001b[1;31mKeyboardInterrupt\u001b[0m                         Traceback (most recent call last)",
      "Cell \u001b[1;32mIn[14], line 1\u001b[0m\n\u001b[1;32m----> 1\u001b[0m \u001b[38;5;28;01mraise\u001b[39;00m \u001b[38;5;167;01mKeyboardInterrupt\u001b[39;00m\n",
      "\u001b[1;31mKeyboardInterrupt\u001b[0m: "
     ]
    }
   ],
   "source": [
    "raise KeyboardInterrupt"
   ]
  },
  {
   "cell_type": "code",
   "execution_count": 15,
   "metadata": {},
   "outputs": [
    {
     "ename": "MemoryError",
     "evalue": "",
     "output_type": "error",
     "traceback": [
      "\u001b[1;31m---------------------------------------------------------------------------\u001b[0m",
      "\u001b[1;31mMemoryError\u001b[0m                               Traceback (most recent call last)",
      "Cell \u001b[1;32mIn[15], line 1\u001b[0m\n\u001b[1;32m----> 1\u001b[0m \u001b[38;5;28;01mraise\u001b[39;00m \u001b[38;5;167;01mMemoryError\u001b[39;00m\n",
      "\u001b[1;31mMemoryError\u001b[0m: "
     ]
    }
   ],
   "source": [
    "raise MemoryError"
   ]
  },
  {
   "cell_type": "code",
   "execution_count": 17,
   "metadata": {},
   "outputs": [
    {
     "name": "stdout",
     "output_type": "stream",
     "text": [
      "Enter a positive integer:-2\n",
      "Error: Entered negative number.\n"
     ]
    }
   ],
   "source": [
    "try:\n",
    "    num=int(input(\"Enter a positive integer:\"))\n",
    "    if num<=0:\n",
    "        raise ValueError(\"Error: Entered negative number.\")\n",
    "except ValueError as e:\n",
    "    print(e)"
   ]
  },
  {
   "cell_type": "code",
   "execution_count": 18,
   "metadata": {},
   "outputs": [
    {
     "name": "stdout",
     "output_type": "stream",
     "text": [
      "File opened\n",
      "File Closed\n"
     ]
    }
   ],
   "source": [
    "try:\n",
    "    f=open(\"data.txt\")\n",
    "    print(\"File opened\")\n",
    "finally:\n",
    "    f.close()\n",
    "    print(\"File Closed\")"
   ]
  },
  {
   "cell_type": "code",
   "execution_count": null,
   "metadata": {},
   "outputs": [],
   "source": []
  }
 ],
 "metadata": {
  "kernelspec": {
   "display_name": "Python 3 (ipykernel)",
   "language": "python",
   "name": "python3"
  },
  "language_info": {
   "codemirror_mode": {
    "name": "ipython",
    "version": 3
   },
   "file_extension": ".py",
   "mimetype": "text/x-python",
   "name": "python",
   "nbconvert_exporter": "python",
   "pygments_lexer": "ipython3",
   "version": "3.11.4"
  }
 },
 "nbformat": 4,
 "nbformat_minor": 2
}
