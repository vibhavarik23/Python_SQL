{
 "cells": [
  {
   "cell_type": "markdown",
   "metadata": {},
   "source": [
    "#### File Handling \n",
    "File is a named location on disk to store related information. It is used to permanantely store data in a non volatile memory such as hard drive.\n",
    "Since, random access memory (RAM) is volatile which loses its data when computer is turned off, we use files for future use of the data.\n",
    "When we want to read from or write to a file we need to open it first. When we are done, it needs to be closed, so that resources that are not tied with the file are freed.\n",
    "\n",
    "#### File Operation:\n",
    "1. Open a file\n",
    "2. read or write to a file (perform operation)\n",
    "3. close the file"
   ]
  },
  {
   "cell_type": "markdown",
   "metadata": {},
   "source": [
    "#### Opening a File\n",
    "Before performing any operation on the file like reading or writing, first, we have to open that file. For this, we should use Python’s inbuilt function open() but at the time of opening, we have to specify the mode, which represents the purpose of the opening file.\n",
    "\n",
    "f=open(filename,mode)\n",
    "\n",
    "Where the following mode is supported:\n",
    "\n",
    "1. r: open an existing file for a read operation.(default)\n",
    "2. w: open an existing file for a write operation. If the file already contains some data then it will be overridden but if the file is not present then it creates the file as well.\n",
    "3. a:  open an existing file for append operation. It won’t override existing data.\n",
    "4. r+:  To read and write data into the file. The previous data in the file will be overridden.\n",
    "5. w+: To write and read data. It will override existing data.\n",
    "6. a+: To append and read data from the file. It won’t override existing data."
   ]
  },
  {
   "cell_type": "code",
   "execution_count": null,
   "metadata": {},
   "outputs": [],
   "source": [
    "f=open('data.txt','r')\n",
    "# or\n",
    "# f=open(data.txt)"
   ]
  },
  {
   "cell_type": "markdown",
   "metadata": {},
   "source": [
    "##### Closing a File\n",
    "The close() command terminates all the resources in use and frees the system of this particular program. "
   ]
  },
  {
   "cell_type": "code",
   "execution_count": null,
   "metadata": {},
   "outputs": [],
   "source": [
    "f.close()"
   ]
  },
  {
   "cell_type": "markdown",
   "metadata": {},
   "source": [
    "This method is not entirely safe. If an exception occurs when we are performing some operation with the file, the code exits without closing the file."
   ]
  },
  {
   "cell_type": "markdown",
   "metadata": {},
   "source": [
    "Safer way is to use a try....finally block.\n",
    "This way, we are guaranteed that the file is properly closed even if an exception is raised, causing program flow to stop."
   ]
  },
  {
   "cell_type": "code",
   "execution_count": null,
   "metadata": {},
   "outputs": [],
   "source": [
    "try:\n",
    "    f=open(\"data.txt\",\"r\")\n",
    "    # perform read or write operations on file.\n",
    "finally:\n",
    "    f.close()"
   ]
  },
  {
   "cell_type": "code",
   "execution_count": null,
   "metadata": {},
   "outputs": [],
   "source": [
    "#with open(\"data.txt\") as file:"
   ]
  },
  {
   "cell_type": "code",
   "execution_count": 5,
   "metadata": {},
   "outputs": [],
   "source": [
    "f=open(\"test.txt\", \"w\")\n",
    "f.write(\"First line\\n\")\n",
    "f.write(\"Second line\\n\")\n",
    "f.close()"
   ]
  },
  {
   "cell_type": "code",
   "execution_count": 1,
   "metadata": {},
   "outputs": [
    {
     "name": "stdout",
     "output_type": "stream",
     "text": [
      "This is Data.txt file.\n",
      "Created for demonstration of file operations.\n"
     ]
    }
   ],
   "source": [
    "f=open(\"data.txt\", \"r\")\n",
    "print(f.read())\n",
    "f.close()"
   ]
  },
  {
   "cell_type": "code",
   "execution_count": 3,
   "metadata": {},
   "outputs": [
    {
     "name": "stdout",
     "output_type": "stream",
     "text": [
      "This \n"
     ]
    }
   ],
   "source": [
    "f=open(\"data.txt\", \"r\")\n",
    "print(f.read(5))\n",
    "f.close()"
   ]
  },
  {
   "cell_type": "code",
   "execution_count": 10,
   "metadata": {},
   "outputs": [
    {
     "name": "stdout",
     "output_type": "stream",
     "text": [
      "This \n",
      "5\n",
      "2\n"
     ]
    }
   ],
   "source": [
    "# The tell() method returns cursor current position\n",
    "f=open(\"data.txt\", \"r\")\n",
    "print(f.read(5))\n",
    "print(f.tell())\n",
    "f.seek(2)\n",
    "print(f.tell())\n",
    "f.close()"
   ]
  },
  {
   "cell_type": "code",
   "execution_count": 11,
   "metadata": {},
   "outputs": [
    {
     "name": "stdout",
     "output_type": "stream",
     "text": [
      "This is Data.txt file.\n",
      "\n",
      "Created for demonstration of file operations.\n"
     ]
    }
   ],
   "source": [
    "f=open(\"data.txt\", \"r\")\n",
    "f.seek(0)\n",
    "for line in f:\n",
    "    print(line)\n",
    "f.close()"
   ]
  },
  {
   "cell_type": "code",
   "execution_count": 12,
   "metadata": {},
   "outputs": [
    {
     "name": "stdout",
     "output_type": "stream",
     "text": [
      "This is Data.txt file.\n",
      "\n"
     ]
    }
   ],
   "source": [
    "f=open(\"data.txt\", \"r\")\n",
    "print(f.readline())\n",
    "f.close()"
   ]
  },
  {
   "cell_type": "code",
   "execution_count": 13,
   "metadata": {},
   "outputs": [
    {
     "name": "stdout",
     "output_type": "stream",
     "text": [
      "['This is Data.txt file.\\n', 'Created for demonstration of file operations.']\n"
     ]
    }
   ],
   "source": [
    "f=open(\"data.txt\", \"r\")\n",
    "print(f.readlines())\n",
    "f.close()"
   ]
  },
  {
   "cell_type": "code",
   "execution_count": null,
   "metadata": {},
   "outputs": [],
   "source": [
    "import os\n",
    "os.rename(\"test.txt\",\"sample.txt\")"
   ]
  },
  {
   "cell_type": "code",
   "execution_count": null,
   "metadata": {},
   "outputs": [],
   "source": [
    "os.remove(\"sample.txt\")"
   ]
  },
  {
   "cell_type": "code",
   "execution_count": null,
   "metadata": {},
   "outputs": [],
   "source": [
    "# current working directory\n",
    "os.getcwd()"
   ]
  },
  {
   "cell_type": "code",
   "execution_count": null,
   "metadata": {},
   "outputs": [],
   "source": [
    "# os.chdir(\"write path here\")"
   ]
  }
 ],
 "metadata": {
  "kernelspec": {
   "display_name": "Python 3 (ipykernel)",
   "language": "python",
   "name": "python3"
  },
  "language_info": {
   "codemirror_mode": {
    "name": "ipython",
    "version": 3
   },
   "file_extension": ".py",
   "mimetype": "text/x-python",
   "name": "python",
   "nbconvert_exporter": "python",
   "pygments_lexer": "ipython3",
   "version": "3.11.4"
  }
 },
 "nbformat": 4,
 "nbformat_minor": 2
}
